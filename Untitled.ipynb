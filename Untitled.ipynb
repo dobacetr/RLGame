{
 "cells": [
  {
   "cell_type": "code",
   "execution_count": 1,
   "id": "5e04f6d9-8550-441f-9e88-907d1a1cb6ed",
   "metadata": {},
   "outputs": [],
   "source": [
    "import BadlandsTD\n",
    "from Tiles.Entity import Entities\n",
    "from Tiles.Tower import Tower"
   ]
  },
  {
   "cell_type": "code",
   "execution_count": 2,
   "id": "5ab5496c-4041-47c1-9be4-331c90d774de",
   "metadata": {},
   "outputs": [],
   "source": [
    "game = BadlandsTD.BadlandsTDGame()"
   ]
  },
  {
   "cell_type": "code",
   "execution_count": null,
   "id": "b152b631-0aa4-4e3c-83cb-4aa731cab18d",
   "metadata": {},
   "outputs": [],
   "source": []
  }
 ],
 "metadata": {
  "kernelspec": {
   "display_name": "Python 3 (ipykernel)",
   "language": "python",
   "name": "python3"
  },
  "language_info": {
   "codemirror_mode": {
    "name": "ipython",
    "version": 3
   },
   "file_extension": ".py",
   "mimetype": "text/x-python",
   "name": "python",
   "nbconvert_exporter": "python",
   "pygments_lexer": "ipython3",
   "version": "3.10.3"
  }
 },
 "nbformat": 4,
 "nbformat_minor": 5
}
