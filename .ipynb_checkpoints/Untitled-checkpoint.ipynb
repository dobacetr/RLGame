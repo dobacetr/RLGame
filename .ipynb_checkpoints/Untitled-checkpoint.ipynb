{
 "cells": [
  {
   "cell_type": "code",
   "execution_count": 1,
   "id": "5e04f6d9-8550-441f-9e88-907d1a1cb6ed",
   "metadata": {},
   "outputs": [],
   "source": [
    "import BadlandsTD\n",
    "from Entities import TileTypes\n",
    "import Towers"
   ]
  },
  {
   "cell_type": "code",
   "execution_count": 2,
   "id": "5ab5496c-4041-47c1-9be4-331c90d774de",
   "metadata": {},
   "outputs": [],
   "source": [
    "game = BadlandsTD.BadlandsTDGame()"
   ]
  },
  {
   "cell_type": "code",
   "execution_count": 4,
   "id": "1a1b2f85-d58e-4bd2-99d5-7ce882f3c5a3",
   "metadata": {},
   "outputs": [
    {
     "ename": "TypeError",
     "evalue": "'module' object is not callable",
     "output_type": "error",
     "traceback": [
      "\u001b[1;31m---------------------------------------------------------------------------\u001b[0m",
      "\u001b[1;31mTypeError\u001b[0m                                 Traceback (most recent call last)",
      "Input \u001b[1;32mIn [4]\u001b[0m, in \u001b[0;36m<cell line: 1>\u001b[1;34m()\u001b[0m\n\u001b[1;32m----> 1\u001b[0m myTower \u001b[38;5;241m=\u001b[39m \u001b[43mTower\u001b[49m\u001b[43m(\u001b[49m\u001b[43mTileTypes\u001b[49m\u001b[38;5;241;43m.\u001b[39;49m\u001b[43mNormal0\u001b[49m\u001b[43m)\u001b[49m\n\u001b[0;32m      2\u001b[0m \u001b[38;5;28mprint\u001b[39m(myTower\u001b[38;5;241m.\u001b[39mtowerType)\n",
      "\u001b[1;31mTypeError\u001b[0m: 'module' object is not callable"
     ]
    }
   ],
   "source": [
    "myTower = Towers.Tower(TileTypes.Normal0)\n",
    "print(myTower.towerType)"
   ]
  },
  {
   "cell_type": "code",
   "execution_count": null,
   "id": "abc360db-9cc1-4643-8ef0-bff8db383fd5",
   "metadata": {},
   "outputs": [],
   "source": []
  }
 ],
 "metadata": {
  "kernelspec": {
   "display_name": "Python 3 (ipykernel)",
   "language": "python",
   "name": "python3"
  },
  "language_info": {
   "codemirror_mode": {
    "name": "ipython",
    "version": 3
   },
   "file_extension": ".py",
   "mimetype": "text/x-python",
   "name": "python",
   "nbconvert_exporter": "python",
   "pygments_lexer": "ipython3",
   "version": "3.10.3"
  }
 },
 "nbformat": 4,
 "nbformat_minor": 5
}
